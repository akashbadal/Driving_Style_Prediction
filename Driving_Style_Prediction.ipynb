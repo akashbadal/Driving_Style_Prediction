{
 "cells": [
  {
   "cell_type": "code",
   "execution_count": 1,
   "metadata": {},
   "outputs": [],
   "source": [
    "import pandas as pd\n",
    "import numpy as np\n",
    "import matplotlib.pyplot as plt\n",
    "%matplotlib inline\n",
    "import seaborn as sns\n",
    "plt.rcParams['figure.figsize']= (10.0 ,8.0)\n",
    "from sklearn.ensemble import RandomForestClassifier"
   ]
  },
  {
   "cell_type": "code",
   "execution_count": 2,
   "metadata": {},
   "outputs": [
    {
     "data": {
      "text/html": [
       "<div>\n",
       "<style scoped>\n",
       "    .dataframe tbody tr th:only-of-type {\n",
       "        vertical-align: middle;\n",
       "    }\n",
       "\n",
       "    .dataframe tbody tr th {\n",
       "        vertical-align: top;\n",
       "    }\n",
       "\n",
       "    .dataframe thead th {\n",
       "        text-align: right;\n",
       "    }\n",
       "</style>\n",
       "<table border=\"1\" class=\"dataframe\">\n",
       "  <thead>\n",
       "    <tr style=\"text-align: right;\">\n",
       "      <th></th>\n",
       "      <th>ID</th>\n",
       "      <th>V2</th>\n",
       "      <th>V5</th>\n",
       "      <th>V6</th>\n",
       "      <th>DrivingStyle</th>\n",
       "    </tr>\n",
       "  </thead>\n",
       "  <tbody>\n",
       "    <tr>\n",
       "      <th>0</th>\n",
       "      <td>DR_24526</td>\n",
       "      <td>1265</td>\n",
       "      <td>10243</td>\n",
       "      <td>2</td>\n",
       "      <td>2</td>\n",
       "    </tr>\n",
       "    <tr>\n",
       "      <th>1</th>\n",
       "      <td>DR_30052</td>\n",
       "      <td>1680</td>\n",
       "      <td>30871</td>\n",
       "      <td>6</td>\n",
       "      <td>2</td>\n",
       "    </tr>\n",
       "    <tr>\n",
       "      <th>2</th>\n",
       "      <td>DR_40928</td>\n",
       "      <td>936</td>\n",
       "      <td>3224</td>\n",
       "      <td>4</td>\n",
       "      <td>2</td>\n",
       "    </tr>\n",
       "    <tr>\n",
       "      <th>3</th>\n",
       "      <td>DR_66033</td>\n",
       "      <td>1503</td>\n",
       "      <td>3315</td>\n",
       "      <td>4</td>\n",
       "      <td>2</td>\n",
       "    </tr>\n",
       "    <tr>\n",
       "      <th>4</th>\n",
       "      <td>DR_45266</td>\n",
       "      <td>929</td>\n",
       "      <td>3022</td>\n",
       "      <td>4</td>\n",
       "      <td>2</td>\n",
       "    </tr>\n",
       "  </tbody>\n",
       "</table>\n",
       "</div>"
      ],
      "text/plain": [
       "         ID    V2     V5  V6  DrivingStyle\n",
       "0  DR_24526  1265  10243   2             2\n",
       "1  DR_30052  1680  30871   6             2\n",
       "2  DR_40928   936   3224   4             2\n",
       "3  DR_66033  1503   3315   4             2\n",
       "4  DR_45266   929   3022   4             2"
      ]
     },
     "execution_count": 2,
     "metadata": {},
     "output_type": "execute_result"
    }
   ],
   "source": [
    "df1 = pd.read_csv(\"C:\\\\Users\\\\Lenovo\\\\Downloads\\\\Project_2\\\\Train_Data\\\\Train_Data\\\\Train.csv\")\n",
    "df1.head()"
   ]
  },
  {
   "cell_type": "code",
   "execution_count": 3,
   "metadata": {
    "scrolled": true
   },
   "outputs": [
    {
     "data": {
      "text/html": [
       "<div>\n",
       "<style scoped>\n",
       "    .dataframe tbody tr th:only-of-type {\n",
       "        vertical-align: middle;\n",
       "    }\n",
       "\n",
       "    .dataframe tbody tr th {\n",
       "        vertical-align: top;\n",
       "    }\n",
       "\n",
       "    .dataframe thead th {\n",
       "        text-align: right;\n",
       "    }\n",
       "</style>\n",
       "<table border=\"1\" class=\"dataframe\">\n",
       "  <thead>\n",
       "    <tr style=\"text-align: right;\">\n",
       "      <th></th>\n",
       "      <th>ID</th>\n",
       "      <th>V1</th>\n",
       "      <th>V3</th>\n",
       "      <th>V4</th>\n",
       "      <th>V7</th>\n",
       "      <th>V8</th>\n",
       "      <th>V9</th>\n",
       "      <th>V10</th>\n",
       "      <th>V11</th>\n",
       "      <th>V18</th>\n",
       "    </tr>\n",
       "  </thead>\n",
       "  <tbody>\n",
       "    <tr>\n",
       "      <th>0</th>\n",
       "      <td>DR_24526</td>\n",
       "      <td>2012-03-21 09:14:55</td>\n",
       "      <td>1</td>\n",
       "      <td>81</td>\n",
       "      <td>57227</td>\n",
       "      <td>87</td>\n",
       "      <td>16986</td>\n",
       "      <td>941</td>\n",
       "      <td>94.0</td>\n",
       "      <td>Dry</td>\n",
       "    </tr>\n",
       "    <tr>\n",
       "      <th>1</th>\n",
       "      <td>DR_24526</td>\n",
       "      <td>2012-03-21 09:15:07</td>\n",
       "      <td>1</td>\n",
       "      <td>88</td>\n",
       "      <td>57229</td>\n",
       "      <td>81</td>\n",
       "      <td>1708</td>\n",
       "      <td>551</td>\n",
       "      <td>11.0</td>\n",
       "      <td>Dry</td>\n",
       "    </tr>\n",
       "    <tr>\n",
       "      <th>2</th>\n",
       "      <td>DR_24526</td>\n",
       "      <td>2012-03-21 09:15:12</td>\n",
       "      <td>1</td>\n",
       "      <td>88</td>\n",
       "      <td>57230</td>\n",
       "      <td>88</td>\n",
       "      <td>22892</td>\n",
       "      <td>1698</td>\n",
       "      <td>4.0</td>\n",
       "      <td>Dry</td>\n",
       "    </tr>\n",
       "    <tr>\n",
       "      <th>3</th>\n",
       "      <td>DR_24526</td>\n",
       "      <td>2012-03-21 09:15:48</td>\n",
       "      <td>2</td>\n",
       "      <td>84</td>\n",
       "      <td>57228</td>\n",
       "      <td>89</td>\n",
       "      <td>1945</td>\n",
       "      <td>544</td>\n",
       "      <td>127.0</td>\n",
       "      <td>Dry</td>\n",
       "    </tr>\n",
       "    <tr>\n",
       "      <th>4</th>\n",
       "      <td>DR_24526</td>\n",
       "      <td>2012-03-21 09:15:54</td>\n",
       "      <td>1</td>\n",
       "      <td>89</td>\n",
       "      <td>57231</td>\n",
       "      <td>88</td>\n",
       "      <td>13787</td>\n",
       "      <td>1893</td>\n",
       "      <td>42.0</td>\n",
       "      <td>Dry</td>\n",
       "    </tr>\n",
       "  </tbody>\n",
       "</table>\n",
       "</div>"
      ],
      "text/plain": [
       "         ID                   V1  V3  V4     V7  V8     V9   V10    V11  V18\n",
       "0  DR_24526  2012-03-21 09:14:55   1  81  57227  87  16986   941   94.0  Dry\n",
       "1  DR_24526  2012-03-21 09:15:07   1  88  57229  81   1708   551   11.0  Dry\n",
       "2  DR_24526  2012-03-21 09:15:12   1  88  57230  88  22892  1698    4.0  Dry\n",
       "3  DR_24526  2012-03-21 09:15:48   2  84  57228  89   1945   544  127.0  Dry\n",
       "4  DR_24526  2012-03-21 09:15:54   1  89  57231  88  13787  1893   42.0  Dry"
      ]
     },
     "execution_count": 3,
     "metadata": {},
     "output_type": "execute_result"
    }
   ],
   "source": [
    "df2 = pd.read_csv(\"C:\\\\Users\\\\Lenovo\\\\Downloads\\\\Project_2\\\\Train_Data\\\\Train_Data\\\\Train_Vehicletravellingdata.csv\")\n",
    "df2.head()"
   ]
  },
  {
   "cell_type": "code",
   "execution_count": 4,
   "metadata": {
    "scrolled": false
   },
   "outputs": [
    {
     "data": {
      "text/html": [
       "<div>\n",
       "<style scoped>\n",
       "    .dataframe tbody tr th:only-of-type {\n",
       "        vertical-align: middle;\n",
       "    }\n",
       "\n",
       "    .dataframe tbody tr th {\n",
       "        vertical-align: top;\n",
       "    }\n",
       "\n",
       "    .dataframe thead th {\n",
       "        text-align: right;\n",
       "    }\n",
       "</style>\n",
       "<table border=\"1\" class=\"dataframe\">\n",
       "  <thead>\n",
       "    <tr style=\"text-align: right;\">\n",
       "      <th></th>\n",
       "      <th>ID</th>\n",
       "      <th>V1</th>\n",
       "      <th>V12</th>\n",
       "      <th>V13</th>\n",
       "      <th>V14</th>\n",
       "      <th>V15</th>\n",
       "      <th>V16</th>\n",
       "      <th>V17</th>\n",
       "      <th>V19</th>\n",
       "    </tr>\n",
       "  </thead>\n",
       "  <tbody>\n",
       "    <tr>\n",
       "      <th>0</th>\n",
       "      <td>DR_24526</td>\n",
       "      <td>2012-03-21 09:14:55</td>\n",
       "      <td>7.0</td>\n",
       "      <td>clear</td>\n",
       "      <td>None</td>\n",
       "      <td>95.0</td>\n",
       "      <td>146.0</td>\n",
       "      <td>1.0</td>\n",
       "      <td>daylight</td>\n",
       "    </tr>\n",
       "    <tr>\n",
       "      <th>1</th>\n",
       "      <td>DR_24526</td>\n",
       "      <td>2012-03-21 09:15:07</td>\n",
       "      <td>7.0</td>\n",
       "      <td>clear</td>\n",
       "      <td>None</td>\n",
       "      <td>95.0</td>\n",
       "      <td>124.0</td>\n",
       "      <td>0.0</td>\n",
       "      <td>daylight</td>\n",
       "    </tr>\n",
       "    <tr>\n",
       "      <th>2</th>\n",
       "      <td>DR_24526</td>\n",
       "      <td>2012-03-21 09:15:12</td>\n",
       "      <td>7.0</td>\n",
       "      <td>clear</td>\n",
       "      <td>None</td>\n",
       "      <td>95.0</td>\n",
       "      <td>124.0</td>\n",
       "      <td>0.0</td>\n",
       "      <td>daylight</td>\n",
       "    </tr>\n",
       "    <tr>\n",
       "      <th>3</th>\n",
       "      <td>DR_24526</td>\n",
       "      <td>2012-03-21 09:15:48</td>\n",
       "      <td>7.0</td>\n",
       "      <td>clear</td>\n",
       "      <td>None</td>\n",
       "      <td>95.0</td>\n",
       "      <td>124.0</td>\n",
       "      <td>0.0</td>\n",
       "      <td>daylight</td>\n",
       "    </tr>\n",
       "    <tr>\n",
       "      <th>4</th>\n",
       "      <td>DR_24526</td>\n",
       "      <td>2012-03-21 09:15:54</td>\n",
       "      <td>7.0</td>\n",
       "      <td>clear</td>\n",
       "      <td>None</td>\n",
       "      <td>95.0</td>\n",
       "      <td>124.0</td>\n",
       "      <td>0.0</td>\n",
       "      <td>daylight</td>\n",
       "    </tr>\n",
       "  </tbody>\n",
       "</table>\n",
       "</div>"
      ],
      "text/plain": [
       "         ID                   V1  V12    V13   V14   V15    V16  V17       V19\n",
       "0  DR_24526  2012-03-21 09:14:55  7.0  clear  None  95.0  146.0  1.0  daylight\n",
       "1  DR_24526  2012-03-21 09:15:07  7.0  clear  None  95.0  124.0  0.0  daylight\n",
       "2  DR_24526  2012-03-21 09:15:12  7.0  clear  None  95.0  124.0  0.0  daylight\n",
       "3  DR_24526  2012-03-21 09:15:48  7.0  clear  None  95.0  124.0  0.0  daylight\n",
       "4  DR_24526  2012-03-21 09:15:54  7.0  clear  None  95.0  124.0  0.0  daylight"
      ]
     },
     "execution_count": 4,
     "metadata": {},
     "output_type": "execute_result"
    }
   ],
   "source": [
    "df3 = pd.read_csv(\"C:\\\\Users\\\\Lenovo\\\\Downloads\\\\Project_2\\\\Train_Data\\\\Train_Data\\\\Train_WeatherData.csv\")\n",
    "df3.head()"
   ]
  },
  {
   "cell_type": "code",
   "execution_count": 5,
   "metadata": {},
   "outputs": [
    {
     "data": {
      "text/plain": [
       "Index([], dtype='object')"
      ]
     },
     "execution_count": 5,
     "metadata": {},
     "output_type": "execute_result"
    }
   ],
   "source": [
    "df1.columns[df1.isnull().any()]"
   ]
  },
  {
   "cell_type": "code",
   "execution_count": 6,
   "metadata": {},
   "outputs": [
    {
     "data": {
      "text/plain": [
       "Index(['V11'], dtype='object')"
      ]
     },
     "execution_count": 6,
     "metadata": {},
     "output_type": "execute_result"
    }
   ],
   "source": [
    "df2.columns[df2.isnull().any()]\n",
    "#we will impute the missing value ahead"
   ]
  },
  {
   "cell_type": "code",
   "execution_count": 7,
   "metadata": {},
   "outputs": [
    {
     "data": {
      "text/plain": [
       "Index(['V12', 'V15', 'V16', 'V17'], dtype='object')"
      ]
     },
     "execution_count": 7,
     "metadata": {},
     "output_type": "execute_result"
    }
   ],
   "source": [
    "df3.columns[df3.isnull().any()]"
   ]
  },
  {
   "cell_type": "markdown",
   "metadata": {},
   "source": [
    "create new dataframe where add important features from df2 and df3 to df1\n",
    "convert categorical variables to numerical ones\n",
    "find out any missing values and then impute\n",
    "\n"
   ]
  },
  {
   "cell_type": "markdown",
   "metadata": {},
   "source": [
    "## Imputing Missing VALUE"
   ]
  },
  {
   "cell_type": "code",
   "execution_count": 8,
   "metadata": {},
   "outputs": [],
   "source": [
    "df3['V12'].fillna(0,inplace = True)"
   ]
  },
  {
   "cell_type": "code",
   "execution_count": 9,
   "metadata": {},
   "outputs": [],
   "source": [
    "df3['V15'].fillna(0,inplace = True)"
   ]
  },
  {
   "cell_type": "code",
   "execution_count": 10,
   "metadata": {},
   "outputs": [],
   "source": [
    "df2['V11'].fillna(0,inplace = True)  # Imputing the missing values"
   ]
  },
  {
   "cell_type": "code",
   "execution_count": 11,
   "metadata": {},
   "outputs": [
    {
     "data": {
      "text/plain": [
       "ID                DR_21143\n",
       "V1     2012-03-22 16:06:49\n",
       "V3                       1\n",
       "V4                      76\n",
       "V7                   59018\n",
       "V8                      86\n",
       "V9                    3562\n",
       "V10                   1064\n",
       "V11                      3\n",
       "V18                    Dry\n",
       "Name: 264, dtype: object"
      ]
     },
     "execution_count": 11,
     "metadata": {},
     "output_type": "execute_result"
    }
   ],
   "source": [
    "df2.loc[264,:]"
   ]
  },
  {
   "cell_type": "markdown",
   "metadata": {},
   "source": [
    "## Data Pre-Processing"
   ]
  },
  {
   "cell_type": "code",
   "execution_count": 12,
   "metadata": {},
   "outputs": [
    {
     "data": {
      "text/html": [
       "<div>\n",
       "<style scoped>\n",
       "    .dataframe tbody tr th:only-of-type {\n",
       "        vertical-align: middle;\n",
       "    }\n",
       "\n",
       "    .dataframe tbody tr th {\n",
       "        vertical-align: top;\n",
       "    }\n",
       "\n",
       "    .dataframe thead th {\n",
       "        text-align: right;\n",
       "    }\n",
       "</style>\n",
       "<table border=\"1\" class=\"dataframe\">\n",
       "  <thead>\n",
       "    <tr style=\"text-align: right;\">\n",
       "      <th></th>\n",
       "      <th>ID</th>\n",
       "      <th>V2</th>\n",
       "      <th>V5</th>\n",
       "      <th>V6</th>\n",
       "      <th>DrivingStyle</th>\n",
       "    </tr>\n",
       "  </thead>\n",
       "  <tbody>\n",
       "    <tr>\n",
       "      <th>0</th>\n",
       "      <td>DR_24526</td>\n",
       "      <td>1265</td>\n",
       "      <td>10243</td>\n",
       "      <td>2</td>\n",
       "      <td>2</td>\n",
       "    </tr>\n",
       "    <tr>\n",
       "      <th>1</th>\n",
       "      <td>DR_30052</td>\n",
       "      <td>1680</td>\n",
       "      <td>30871</td>\n",
       "      <td>6</td>\n",
       "      <td>2</td>\n",
       "    </tr>\n",
       "    <tr>\n",
       "      <th>2</th>\n",
       "      <td>DR_40928</td>\n",
       "      <td>936</td>\n",
       "      <td>3224</td>\n",
       "      <td>4</td>\n",
       "      <td>2</td>\n",
       "    </tr>\n",
       "    <tr>\n",
       "      <th>3</th>\n",
       "      <td>DR_66033</td>\n",
       "      <td>1503</td>\n",
       "      <td>3315</td>\n",
       "      <td>4</td>\n",
       "      <td>2</td>\n",
       "    </tr>\n",
       "    <tr>\n",
       "      <th>4</th>\n",
       "      <td>DR_45266</td>\n",
       "      <td>929</td>\n",
       "      <td>3022</td>\n",
       "      <td>4</td>\n",
       "      <td>2</td>\n",
       "    </tr>\n",
       "  </tbody>\n",
       "</table>\n",
       "</div>"
      ],
      "text/plain": [
       "         ID    V2     V5  V6  DrivingStyle\n",
       "0  DR_24526  1265  10243   2             2\n",
       "1  DR_30052  1680  30871   6             2\n",
       "2  DR_40928   936   3224   4             2\n",
       "3  DR_66033  1503   3315   4             2\n",
       "4  DR_45266   929   3022   4             2"
      ]
     },
     "execution_count": 12,
     "metadata": {},
     "output_type": "execute_result"
    }
   ],
   "source": [
    "alldata = df1[:] #cloning is done into a new dataframe\n",
    "alldata.head()"
   ]
  },
  {
   "cell_type": "code",
   "execution_count": 13,
   "metadata": {},
   "outputs": [],
   "source": [
    "alldata.set_index('ID',inplace = True)"
   ]
  },
  {
   "cell_type": "code",
   "execution_count": 14,
   "metadata": {
    "scrolled": true
   },
   "outputs": [
    {
     "data": {
      "text/html": [
       "<div>\n",
       "<style scoped>\n",
       "    .dataframe tbody tr th:only-of-type {\n",
       "        vertical-align: middle;\n",
       "    }\n",
       "\n",
       "    .dataframe tbody tr th {\n",
       "        vertical-align: top;\n",
       "    }\n",
       "\n",
       "    .dataframe thead th {\n",
       "        text-align: right;\n",
       "    }\n",
       "</style>\n",
       "<table border=\"1\" class=\"dataframe\">\n",
       "  <thead>\n",
       "    <tr style=\"text-align: right;\">\n",
       "      <th></th>\n",
       "      <th>ID</th>\n",
       "      <th>Relative_Speed</th>\n",
       "    </tr>\n",
       "  </thead>\n",
       "  <tbody>\n",
       "    <tr>\n",
       "      <th>0</th>\n",
       "      <td>DR_24526</td>\n",
       "      <td>0.421053</td>\n",
       "    </tr>\n",
       "    <tr>\n",
       "      <th>1</th>\n",
       "      <td>DR_30052</td>\n",
       "      <td>-3.818182</td>\n",
       "    </tr>\n",
       "    <tr>\n",
       "      <th>2</th>\n",
       "      <td>DR_40928</td>\n",
       "      <td>2.636364</td>\n",
       "    </tr>\n",
       "    <tr>\n",
       "      <th>3</th>\n",
       "      <td>DR_66033</td>\n",
       "      <td>-0.909091</td>\n",
       "    </tr>\n",
       "    <tr>\n",
       "      <th>4</th>\n",
       "      <td>DR_45266</td>\n",
       "      <td>-0.166667</td>\n",
       "    </tr>\n",
       "  </tbody>\n",
       "</table>\n",
       "</div>"
      ],
      "text/plain": [
       "         ID  Relative_Speed\n",
       "0  DR_24526        0.421053\n",
       "1  DR_30052       -3.818182\n",
       "2  DR_40928        2.636364\n",
       "3  DR_66033       -0.909091\n",
       "4  DR_45266       -0.166667"
      ]
     },
     "execution_count": 14,
     "metadata": {},
     "output_type": "execute_result"
    }
   ],
   "source": [
    "df2['Relative_Speed'] = df2['V4']-df2['V8']\n",
    "series1 = df2.groupby('ID',sort = False , as_index = False)['Relative_Speed'].mean()\n",
    "series1.head()"
   ]
  },
  {
   "cell_type": "code",
   "execution_count": 15,
   "metadata": {},
   "outputs": [],
   "source": [
    "series1.set_index('ID',inplace = True)\n",
    "alldata['Mean_Relative_Speed'] = series1['Relative_Speed']"
   ]
  },
  {
   "cell_type": "code",
   "execution_count": 55,
   "metadata": {
    "scrolled": false
   },
   "outputs": [
    {
     "data": {
      "text/html": [
       "<div>\n",
       "<style scoped>\n",
       "    .dataframe tbody tr th:only-of-type {\n",
       "        vertical-align: middle;\n",
       "    }\n",
       "\n",
       "    .dataframe tbody tr th {\n",
       "        vertical-align: top;\n",
       "    }\n",
       "\n",
       "    .dataframe thead th {\n",
       "        text-align: right;\n",
       "    }\n",
       "</style>\n",
       "<table border=\"1\" class=\"dataframe\">\n",
       "  <thead>\n",
       "    <tr style=\"text-align: right;\">\n",
       "      <th></th>\n",
       "      <th>V4</th>\n",
       "    </tr>\n",
       "    <tr>\n",
       "      <th>ID</th>\n",
       "      <th></th>\n",
       "    </tr>\n",
       "  </thead>\n",
       "  <tbody>\n",
       "    <tr>\n",
       "      <th>DR_24526</th>\n",
       "      <td>87.473684</td>\n",
       "    </tr>\n",
       "    <tr>\n",
       "      <th>DR_30052</th>\n",
       "      <td>82.272727</td>\n",
       "    </tr>\n",
       "    <tr>\n",
       "      <th>DR_40928</th>\n",
       "      <td>85.090909</td>\n",
       "    </tr>\n",
       "    <tr>\n",
       "      <th>DR_66033</th>\n",
       "      <td>82.818182</td>\n",
       "    </tr>\n",
       "    <tr>\n",
       "      <th>DR_45266</th>\n",
       "      <td>82.750000</td>\n",
       "    </tr>\n",
       "  </tbody>\n",
       "</table>\n",
       "</div>"
      ],
      "text/plain": [
       "                 V4\n",
       "ID                 \n",
       "DR_24526  87.473684\n",
       "DR_30052  82.272727\n",
       "DR_40928  85.090909\n",
       "DR_66033  82.818182\n",
       "DR_45266  82.750000"
      ]
     },
     "execution_count": 55,
     "metadata": {},
     "output_type": "execute_result"
    }
   ],
   "source": [
    "series_meanSpeed = df2.groupby('ID',sort = False, as_index = False)['V4'].mean()\n",
    "series_meanSpeed.set_index('ID',inplace = True)\n",
    "series_meanSpeed[0:5]"
   ]
  },
  {
   "cell_type": "code",
   "execution_count": 56,
   "metadata": {},
   "outputs": [],
   "source": [
    "alldata['V4_mean'] = series_meanSpeed['V4']"
   ]
  },
  {
   "cell_type": "code",
   "execution_count": 17,
   "metadata": {},
   "outputs": [],
   "source": [
    "#df1.drop(['Mean_Relative_Speed'],axis =1,inplace = True)"
   ]
  },
  {
   "cell_type": "code",
   "execution_count": 18,
   "metadata": {
    "scrolled": false
   },
   "outputs": [
    {
     "data": {
      "text/html": [
       "<div>\n",
       "<style scoped>\n",
       "    .dataframe tbody tr th:only-of-type {\n",
       "        vertical-align: middle;\n",
       "    }\n",
       "\n",
       "    .dataframe tbody tr th {\n",
       "        vertical-align: top;\n",
       "    }\n",
       "\n",
       "    .dataframe thead th {\n",
       "        text-align: right;\n",
       "    }\n",
       "</style>\n",
       "<table border=\"1\" class=\"dataframe\">\n",
       "  <thead>\n",
       "    <tr style=\"text-align: right;\">\n",
       "      <th></th>\n",
       "      <th>V12</th>\n",
       "    </tr>\n",
       "    <tr>\n",
       "      <th>ID</th>\n",
       "      <th></th>\n",
       "    </tr>\n",
       "  </thead>\n",
       "  <tbody>\n",
       "    <tr>\n",
       "      <th>DR_24526</th>\n",
       "      <td>7</td>\n",
       "    </tr>\n",
       "    <tr>\n",
       "      <th>DR_30052</th>\n",
       "      <td>1</td>\n",
       "    </tr>\n",
       "    <tr>\n",
       "      <th>DR_40928</th>\n",
       "      <td>1</td>\n",
       "    </tr>\n",
       "    <tr>\n",
       "      <th>DR_66033</th>\n",
       "      <td>4</td>\n",
       "    </tr>\n",
       "    <tr>\n",
       "      <th>DR_45266</th>\n",
       "      <td>3</td>\n",
       "    </tr>\n",
       "  </tbody>\n",
       "</table>\n",
       "</div>"
      ],
      "text/plain": [
       "         V12\n",
       "ID          \n",
       "DR_24526   7\n",
       "DR_30052   1\n",
       "DR_40928   1\n",
       "DR_66033   4\n",
       "DR_45266   3"
      ]
     },
     "execution_count": 18,
     "metadata": {},
     "output_type": "execute_result"
    }
   ],
   "source": [
    "series2 = df3.groupby('ID',sort = False, as_index = False)['V12'].agg(pd.Series.mode)\n",
    "series2.set_index('ID',inplace = True)\n",
    "series3 = df3.groupby('ID',sort = False, as_index = False)['V15'].agg(pd.Series.mode)\n",
    "series3.set_index('ID',inplace = True)\n",
    "series2.head()"
   ]
  },
  {
   "cell_type": "code",
   "execution_count": 19,
   "metadata": {},
   "outputs": [
    {
     "data": {
      "text/html": [
       "<div>\n",
       "<style scoped>\n",
       "    .dataframe tbody tr th:only-of-type {\n",
       "        vertical-align: middle;\n",
       "    }\n",
       "\n",
       "    .dataframe tbody tr th {\n",
       "        vertical-align: top;\n",
       "    }\n",
       "\n",
       "    .dataframe thead th {\n",
       "        text-align: right;\n",
       "    }\n",
       "</style>\n",
       "<table border=\"1\" class=\"dataframe\">\n",
       "  <thead>\n",
       "    <tr style=\"text-align: right;\">\n",
       "      <th></th>\n",
       "      <th>V15</th>\n",
       "    </tr>\n",
       "    <tr>\n",
       "      <th>ID</th>\n",
       "      <th></th>\n",
       "    </tr>\n",
       "  </thead>\n",
       "  <tbody>\n",
       "    <tr>\n",
       "      <th>DR_24526</th>\n",
       "      <td>95</td>\n",
       "    </tr>\n",
       "    <tr>\n",
       "      <th>DR_30052</th>\n",
       "      <td>96</td>\n",
       "    </tr>\n",
       "    <tr>\n",
       "      <th>DR_40928</th>\n",
       "      <td>95</td>\n",
       "    </tr>\n",
       "    <tr>\n",
       "      <th>DR_66033</th>\n",
       "      <td>95</td>\n",
       "    </tr>\n",
       "    <tr>\n",
       "      <th>DR_45266</th>\n",
       "      <td>95</td>\n",
       "    </tr>\n",
       "  </tbody>\n",
       "</table>\n",
       "</div>"
      ],
      "text/plain": [
       "         V15\n",
       "ID          \n",
       "DR_24526  95\n",
       "DR_30052  96\n",
       "DR_40928  95\n",
       "DR_66033  95\n",
       "DR_45266  95"
      ]
     },
     "execution_count": 19,
     "metadata": {},
     "output_type": "execute_result"
    }
   ],
   "source": [
    "series3.head()"
   ]
  },
  {
   "cell_type": "code",
   "execution_count": 20,
   "metadata": {},
   "outputs": [
    {
     "data": {
      "text/html": [
       "<div>\n",
       "<style scoped>\n",
       "    .dataframe tbody tr th:only-of-type {\n",
       "        vertical-align: middle;\n",
       "    }\n",
       "\n",
       "    .dataframe tbody tr th {\n",
       "        vertical-align: top;\n",
       "    }\n",
       "\n",
       "    .dataframe thead th {\n",
       "        text-align: right;\n",
       "    }\n",
       "</style>\n",
       "<table border=\"1\" class=\"dataframe\">\n",
       "  <thead>\n",
       "    <tr style=\"text-align: right;\">\n",
       "      <th></th>\n",
       "      <th>V2</th>\n",
       "      <th>V5</th>\n",
       "      <th>V6</th>\n",
       "      <th>DrivingStyle</th>\n",
       "      <th>Mean_Relative_Speed</th>\n",
       "      <th>V12</th>\n",
       "      <th>V15</th>\n",
       "    </tr>\n",
       "    <tr>\n",
       "      <th>ID</th>\n",
       "      <th></th>\n",
       "      <th></th>\n",
       "      <th></th>\n",
       "      <th></th>\n",
       "      <th></th>\n",
       "      <th></th>\n",
       "      <th></th>\n",
       "    </tr>\n",
       "  </thead>\n",
       "  <tbody>\n",
       "    <tr>\n",
       "      <th>DR_24526</th>\n",
       "      <td>1265</td>\n",
       "      <td>10243</td>\n",
       "      <td>2</td>\n",
       "      <td>2</td>\n",
       "      <td>0.421053</td>\n",
       "      <td>7</td>\n",
       "      <td>95</td>\n",
       "    </tr>\n",
       "    <tr>\n",
       "      <th>DR_30052</th>\n",
       "      <td>1680</td>\n",
       "      <td>30871</td>\n",
       "      <td>6</td>\n",
       "      <td>2</td>\n",
       "      <td>-3.818182</td>\n",
       "      <td>1</td>\n",
       "      <td>96</td>\n",
       "    </tr>\n",
       "    <tr>\n",
       "      <th>DR_40928</th>\n",
       "      <td>936</td>\n",
       "      <td>3224</td>\n",
       "      <td>4</td>\n",
       "      <td>2</td>\n",
       "      <td>2.636364</td>\n",
       "      <td>1</td>\n",
       "      <td>95</td>\n",
       "    </tr>\n",
       "    <tr>\n",
       "      <th>DR_66033</th>\n",
       "      <td>1503</td>\n",
       "      <td>3315</td>\n",
       "      <td>4</td>\n",
       "      <td>2</td>\n",
       "      <td>-0.909091</td>\n",
       "      <td>4</td>\n",
       "      <td>95</td>\n",
       "    </tr>\n",
       "    <tr>\n",
       "      <th>DR_45266</th>\n",
       "      <td>929</td>\n",
       "      <td>3022</td>\n",
       "      <td>4</td>\n",
       "      <td>2</td>\n",
       "      <td>-0.166667</td>\n",
       "      <td>3</td>\n",
       "      <td>95</td>\n",
       "    </tr>\n",
       "  </tbody>\n",
       "</table>\n",
       "</div>"
      ],
      "text/plain": [
       "            V2     V5  V6  DrivingStyle  Mean_Relative_Speed V12 V15\n",
       "ID                                                                  \n",
       "DR_24526  1265  10243   2             2             0.421053   7  95\n",
       "DR_30052  1680  30871   6             2            -3.818182   1  96\n",
       "DR_40928   936   3224   4             2             2.636364   1  95\n",
       "DR_66033  1503   3315   4             2            -0.909091   4  95\n",
       "DR_45266   929   3022   4             2            -0.166667   3  95"
      ]
     },
     "execution_count": 20,
     "metadata": {},
     "output_type": "execute_result"
    }
   ],
   "source": [
    "alldata['V12'] = series2['V12']\n",
    "alldata['V15'] = series3['V15']\n",
    "alldata.head()"
   ]
  },
  {
   "cell_type": "code",
   "execution_count": 21,
   "metadata": {},
   "outputs": [],
   "source": [
    "# converting the categorical variables into ordinal variables by mapping with the numbers.\n",
    "df3[\"V13\"] = df3[\"V13\"].map({ \"clear\" :0, \"rain\":1, \"snow\":2}).astype(int)"
   ]
  },
  {
   "cell_type": "code",
   "execution_count": 22,
   "metadata": {},
   "outputs": [],
   "source": [
    "df3[\"V14\"].fillna(\"None\",inplace = True)\n",
    "df3['V14'] = df3['V14'].map({ \" \":0, \"None\":0,\"Low\":1,\"Moderate\":2, \"High\":3}).astype(int)"
   ]
  },
  {
   "cell_type": "code",
   "execution_count": 23,
   "metadata": {
    "scrolled": false
   },
   "outputs": [
    {
     "data": {
      "text/html": [
       "<div>\n",
       "<style scoped>\n",
       "    .dataframe tbody tr th:only-of-type {\n",
       "        vertical-align: middle;\n",
       "    }\n",
       "\n",
       "    .dataframe tbody tr th {\n",
       "        vertical-align: top;\n",
       "    }\n",
       "\n",
       "    .dataframe thead th {\n",
       "        text-align: right;\n",
       "    }\n",
       "</style>\n",
       "<table border=\"1\" class=\"dataframe\">\n",
       "  <thead>\n",
       "    <tr style=\"text-align: right;\">\n",
       "      <th></th>\n",
       "      <th>ID</th>\n",
       "      <th>V1</th>\n",
       "      <th>V12</th>\n",
       "      <th>V13</th>\n",
       "      <th>V14</th>\n",
       "      <th>V15</th>\n",
       "      <th>V16</th>\n",
       "      <th>V17</th>\n",
       "      <th>V19</th>\n",
       "    </tr>\n",
       "  </thead>\n",
       "  <tbody>\n",
       "    <tr>\n",
       "      <th>0</th>\n",
       "      <td>DR_24526</td>\n",
       "      <td>2012-03-21 09:14:55</td>\n",
       "      <td>7.0</td>\n",
       "      <td>0</td>\n",
       "      <td>0</td>\n",
       "      <td>95.0</td>\n",
       "      <td>146.0</td>\n",
       "      <td>1.0</td>\n",
       "      <td>0</td>\n",
       "    </tr>\n",
       "    <tr>\n",
       "      <th>1</th>\n",
       "      <td>DR_24526</td>\n",
       "      <td>2012-03-21 09:15:07</td>\n",
       "      <td>7.0</td>\n",
       "      <td>0</td>\n",
       "      <td>0</td>\n",
       "      <td>95.0</td>\n",
       "      <td>124.0</td>\n",
       "      <td>0.0</td>\n",
       "      <td>0</td>\n",
       "    </tr>\n",
       "    <tr>\n",
       "      <th>2</th>\n",
       "      <td>DR_24526</td>\n",
       "      <td>2012-03-21 09:15:12</td>\n",
       "      <td>7.0</td>\n",
       "      <td>0</td>\n",
       "      <td>0</td>\n",
       "      <td>95.0</td>\n",
       "      <td>124.0</td>\n",
       "      <td>0.0</td>\n",
       "      <td>0</td>\n",
       "    </tr>\n",
       "    <tr>\n",
       "      <th>3</th>\n",
       "      <td>DR_24526</td>\n",
       "      <td>2012-03-21 09:15:48</td>\n",
       "      <td>7.0</td>\n",
       "      <td>0</td>\n",
       "      <td>0</td>\n",
       "      <td>95.0</td>\n",
       "      <td>124.0</td>\n",
       "      <td>0.0</td>\n",
       "      <td>0</td>\n",
       "    </tr>\n",
       "    <tr>\n",
       "      <th>4</th>\n",
       "      <td>DR_24526</td>\n",
       "      <td>2012-03-21 09:15:54</td>\n",
       "      <td>7.0</td>\n",
       "      <td>0</td>\n",
       "      <td>0</td>\n",
       "      <td>95.0</td>\n",
       "      <td>124.0</td>\n",
       "      <td>0.0</td>\n",
       "      <td>0</td>\n",
       "    </tr>\n",
       "  </tbody>\n",
       "</table>\n",
       "</div>"
      ],
      "text/plain": [
       "         ID                   V1  V12  V13  V14   V15    V16  V17  V19\n",
       "0  DR_24526  2012-03-21 09:14:55  7.0    0    0  95.0  146.0  1.0    0\n",
       "1  DR_24526  2012-03-21 09:15:07  7.0    0    0  95.0  124.0  0.0    0\n",
       "2  DR_24526  2012-03-21 09:15:12  7.0    0    0  95.0  124.0  0.0    0\n",
       "3  DR_24526  2012-03-21 09:15:48  7.0    0    0  95.0  124.0  0.0    0\n",
       "4  DR_24526  2012-03-21 09:15:54  7.0    0    0  95.0  124.0  0.0    0"
      ]
     },
     "execution_count": 23,
     "metadata": {},
     "output_type": "execute_result"
    }
   ],
   "source": [
    "df3['V19'] = df3['V19'].map({\"daylight\": 0, \"night\" : 1, \"twilight\": 2}).astype(int)\n",
    "df3.head()"
   ]
  },
  {
   "cell_type": "code",
   "execution_count": 24,
   "metadata": {},
   "outputs": [],
   "source": [
    "series4 = df3.groupby('ID',sort = False, as_index = False)['V13'].agg(pd.Series.mode)\n",
    "series4.set_index('ID',inplace = True)\n",
    "alldata['V13'] = series4['V13']"
   ]
  },
  {
   "cell_type": "code",
   "execution_count": 25,
   "metadata": {},
   "outputs": [],
   "source": [
    "series5 = df3.groupby('ID',sort = False, as_index = False)['V14'].agg(pd.Series.mode)\n",
    "series5.set_index('ID',inplace = True)\n",
    "alldata['V14'] = series5['V14']\n",
    "\n",
    "series6 = df3.groupby('ID',sort = False, as_index = False)['V19'].agg(pd.Series.mode)\n",
    "series6.set_index('ID',inplace = True)\n",
    "alldata['V19'] = series6['V19']"
   ]
  },
  {
   "cell_type": "code",
   "execution_count": 57,
   "metadata": {},
   "outputs": [
    {
     "data": {
      "text/html": [
       "<div>\n",
       "<style scoped>\n",
       "    .dataframe tbody tr th:only-of-type {\n",
       "        vertical-align: middle;\n",
       "    }\n",
       "\n",
       "    .dataframe tbody tr th {\n",
       "        vertical-align: top;\n",
       "    }\n",
       "\n",
       "    .dataframe thead th {\n",
       "        text-align: right;\n",
       "    }\n",
       "</style>\n",
       "<table border=\"1\" class=\"dataframe\">\n",
       "  <thead>\n",
       "    <tr style=\"text-align: right;\">\n",
       "      <th></th>\n",
       "      <th>V2</th>\n",
       "      <th>V5</th>\n",
       "      <th>V6</th>\n",
       "      <th>DrivingStyle</th>\n",
       "      <th>Mean_Relative_Speed</th>\n",
       "      <th>V12</th>\n",
       "      <th>V15</th>\n",
       "      <th>V13</th>\n",
       "      <th>V14</th>\n",
       "      <th>V19</th>\n",
       "      <th>V3_freq</th>\n",
       "      <th>Avg_V11</th>\n",
       "      <th>V18</th>\n",
       "      <th>V4_mean</th>\n",
       "    </tr>\n",
       "    <tr>\n",
       "      <th>ID</th>\n",
       "      <th></th>\n",
       "      <th></th>\n",
       "      <th></th>\n",
       "      <th></th>\n",
       "      <th></th>\n",
       "      <th></th>\n",
       "      <th></th>\n",
       "      <th></th>\n",
       "      <th></th>\n",
       "      <th></th>\n",
       "      <th></th>\n",
       "      <th></th>\n",
       "      <th></th>\n",
       "      <th></th>\n",
       "    </tr>\n",
       "  </thead>\n",
       "  <tbody>\n",
       "    <tr>\n",
       "      <th>DR_24526</th>\n",
       "      <td>1265</td>\n",
       "      <td>10243</td>\n",
       "      <td>2</td>\n",
       "      <td>2</td>\n",
       "      <td>0.42</td>\n",
       "      <td>7</td>\n",
       "      <td>95</td>\n",
       "      <td>0</td>\n",
       "      <td>0</td>\n",
       "      <td>0</td>\n",
       "      <td>0.21</td>\n",
       "      <td>67.84</td>\n",
       "      <td>0</td>\n",
       "      <td>87.473684</td>\n",
       "    </tr>\n",
       "    <tr>\n",
       "      <th>DR_30052</th>\n",
       "      <td>1680</td>\n",
       "      <td>30871</td>\n",
       "      <td>6</td>\n",
       "      <td>2</td>\n",
       "      <td>-3.82</td>\n",
       "      <td>1</td>\n",
       "      <td>96</td>\n",
       "      <td>0</td>\n",
       "      <td>0</td>\n",
       "      <td>0</td>\n",
       "      <td>0.64</td>\n",
       "      <td>138.36</td>\n",
       "      <td>0</td>\n",
       "      <td>82.272727</td>\n",
       "    </tr>\n",
       "    <tr>\n",
       "      <th>DR_40928</th>\n",
       "      <td>936</td>\n",
       "      <td>3224</td>\n",
       "      <td>4</td>\n",
       "      <td>2</td>\n",
       "      <td>2.64</td>\n",
       "      <td>1</td>\n",
       "      <td>95</td>\n",
       "      <td>1</td>\n",
       "      <td>1</td>\n",
       "      <td>0</td>\n",
       "      <td>0.36</td>\n",
       "      <td>159.55</td>\n",
       "      <td>0</td>\n",
       "      <td>85.090909</td>\n",
       "    </tr>\n",
       "    <tr>\n",
       "      <th>DR_66033</th>\n",
       "      <td>1503</td>\n",
       "      <td>3315</td>\n",
       "      <td>4</td>\n",
       "      <td>2</td>\n",
       "      <td>-0.91</td>\n",
       "      <td>4</td>\n",
       "      <td>95</td>\n",
       "      <td>0</td>\n",
       "      <td>0</td>\n",
       "      <td>0</td>\n",
       "      <td>0.55</td>\n",
       "      <td>118.45</td>\n",
       "      <td>0</td>\n",
       "      <td>82.818182</td>\n",
       "    </tr>\n",
       "    <tr>\n",
       "      <th>DR_45266</th>\n",
       "      <td>929</td>\n",
       "      <td>3022</td>\n",
       "      <td>4</td>\n",
       "      <td>2</td>\n",
       "      <td>-0.17</td>\n",
       "      <td>3</td>\n",
       "      <td>95</td>\n",
       "      <td>0</td>\n",
       "      <td>0</td>\n",
       "      <td>0</td>\n",
       "      <td>0.42</td>\n",
       "      <td>109.50</td>\n",
       "      <td>0</td>\n",
       "      <td>82.750000</td>\n",
       "    </tr>\n",
       "  </tbody>\n",
       "</table>\n",
       "</div>"
      ],
      "text/plain": [
       "            V2     V5  V6  DrivingStyle  Mean_Relative_Speed V12 V15  V13  \\\n",
       "ID                                                                          \n",
       "DR_24526  1265  10243   2             2                 0.42   7  95    0   \n",
       "DR_30052  1680  30871   6             2                -3.82   1  96    0   \n",
       "DR_40928   936   3224   4             2                 2.64   1  95    1   \n",
       "DR_66033  1503   3315   4             2                -0.91   4  95    0   \n",
       "DR_45266   929   3022   4             2                -0.17   3  95    0   \n",
       "\n",
       "          V14  V19  V3_freq  Avg_V11 V18    V4_mean  \n",
       "ID                                                   \n",
       "DR_24526    0    0     0.21    67.84   0  87.473684  \n",
       "DR_30052    0    0     0.64   138.36   0  82.272727  \n",
       "DR_40928    1    0     0.36   159.55   0  85.090909  \n",
       "DR_66033    0    0     0.55   118.45   0  82.818182  \n",
       "DR_45266    0    0     0.42   109.50   0  82.750000  "
      ]
     },
     "execution_count": 57,
     "metadata": {},
     "output_type": "execute_result"
    }
   ],
   "source": [
    "alldata.head()"
   ]
  },
  {
   "cell_type": "markdown",
   "metadata": {},
   "source": [
    "#### Finding Frequent LANE CHANGE"
   ]
  },
  {
   "cell_type": "code",
   "execution_count": 27,
   "metadata": {},
   "outputs": [
    {
     "name": "stdout",
     "output_type": "stream",
     "text": [
      "last1\n"
     ]
    }
   ],
   "source": [
    "# We need to find how frequently the driver is changing lane. Here we have found the number of times the driver has changed\n",
    "# his lane and then divided by the total records of a particular driver using his driver id given in the dataset df2.\\\n",
    "\n",
    "list1 = df2['ID'].tolist()\n",
    "list2 = df2['V3'].tolist()\n",
    "#list3 = []\n",
    "dict1 = {}\n",
    "\n",
    "count =0\n",
    "id_count = 1\n",
    "a = len(list1)-1 \n",
    "for i in range(a):\n",
    "        if (list1[i+1] == list1[i]):\n",
    "            id_count += 1\n",
    "            if(list2[i+1] != list2[i]):\n",
    "                count +=1\n",
    "            if (i+1 == a):\n",
    "                print(\"last1\")  # just to check the code if it is running correctly\n",
    "                dict1[list1[i]] = round((count/id_count),2)\n",
    "        else :\n",
    "            dict1[list1[i]] = round((count/id_count),2)\n",
    "            # list3.append(round((count/id_count),2))\n",
    "            count = 0\n",
    "            id_count =1 \n",
    "        "
   ]
  },
  {
   "cell_type": "code",
   "execution_count": 28,
   "metadata": {},
   "outputs": [
    {
     "data": {
      "text/plain": [
       "(12994, 10)"
      ]
     },
     "execution_count": 28,
     "metadata": {},
     "output_type": "execute_result"
    }
   ],
   "source": [
    "alldata.shape"
   ]
  },
  {
   "cell_type": "code",
   "execution_count": 29,
   "metadata": {},
   "outputs": [],
   "source": [
    "#Assigning the dictionary dict1 into dataframe\n",
    "df4 = pd.DataFrame(dict1.values(), index = dict1.keys() )"
   ]
  },
  {
   "cell_type": "code",
   "execution_count": 30,
   "metadata": {},
   "outputs": [
    {
     "data": {
      "text/html": [
       "<div>\n",
       "<style scoped>\n",
       "    .dataframe tbody tr th:only-of-type {\n",
       "        vertical-align: middle;\n",
       "    }\n",
       "\n",
       "    .dataframe tbody tr th {\n",
       "        vertical-align: top;\n",
       "    }\n",
       "\n",
       "    .dataframe thead th {\n",
       "        text-align: right;\n",
       "    }\n",
       "</style>\n",
       "<table border=\"1\" class=\"dataframe\">\n",
       "  <thead>\n",
       "    <tr style=\"text-align: right;\">\n",
       "      <th></th>\n",
       "      <th>V2</th>\n",
       "      <th>V5</th>\n",
       "      <th>V6</th>\n",
       "      <th>DrivingStyle</th>\n",
       "      <th>Mean_Relative_Speed</th>\n",
       "      <th>V12</th>\n",
       "      <th>V15</th>\n",
       "      <th>V13</th>\n",
       "      <th>V14</th>\n",
       "      <th>V19</th>\n",
       "      <th>V3_freq</th>\n",
       "    </tr>\n",
       "    <tr>\n",
       "      <th>ID</th>\n",
       "      <th></th>\n",
       "      <th></th>\n",
       "      <th></th>\n",
       "      <th></th>\n",
       "      <th></th>\n",
       "      <th></th>\n",
       "      <th></th>\n",
       "      <th></th>\n",
       "      <th></th>\n",
       "      <th></th>\n",
       "      <th></th>\n",
       "    </tr>\n",
       "  </thead>\n",
       "  <tbody>\n",
       "    <tr>\n",
       "      <th>DR_24526</th>\n",
       "      <td>1265</td>\n",
       "      <td>10243</td>\n",
       "      <td>2</td>\n",
       "      <td>2</td>\n",
       "      <td>0.421053</td>\n",
       "      <td>7</td>\n",
       "      <td>95</td>\n",
       "      <td>0</td>\n",
       "      <td>0</td>\n",
       "      <td>0</td>\n",
       "      <td>0.21</td>\n",
       "    </tr>\n",
       "    <tr>\n",
       "      <th>DR_30052</th>\n",
       "      <td>1680</td>\n",
       "      <td>30871</td>\n",
       "      <td>6</td>\n",
       "      <td>2</td>\n",
       "      <td>-3.818182</td>\n",
       "      <td>1</td>\n",
       "      <td>96</td>\n",
       "      <td>0</td>\n",
       "      <td>0</td>\n",
       "      <td>0</td>\n",
       "      <td>0.64</td>\n",
       "    </tr>\n",
       "    <tr>\n",
       "      <th>DR_40928</th>\n",
       "      <td>936</td>\n",
       "      <td>3224</td>\n",
       "      <td>4</td>\n",
       "      <td>2</td>\n",
       "      <td>2.636364</td>\n",
       "      <td>1</td>\n",
       "      <td>95</td>\n",
       "      <td>1</td>\n",
       "      <td>1</td>\n",
       "      <td>0</td>\n",
       "      <td>0.36</td>\n",
       "    </tr>\n",
       "    <tr>\n",
       "      <th>DR_66033</th>\n",
       "      <td>1503</td>\n",
       "      <td>3315</td>\n",
       "      <td>4</td>\n",
       "      <td>2</td>\n",
       "      <td>-0.909091</td>\n",
       "      <td>4</td>\n",
       "      <td>95</td>\n",
       "      <td>0</td>\n",
       "      <td>0</td>\n",
       "      <td>0</td>\n",
       "      <td>0.55</td>\n",
       "    </tr>\n",
       "    <tr>\n",
       "      <th>DR_45266</th>\n",
       "      <td>929</td>\n",
       "      <td>3022</td>\n",
       "      <td>4</td>\n",
       "      <td>2</td>\n",
       "      <td>-0.166667</td>\n",
       "      <td>3</td>\n",
       "      <td>95</td>\n",
       "      <td>0</td>\n",
       "      <td>0</td>\n",
       "      <td>0</td>\n",
       "      <td>0.42</td>\n",
       "    </tr>\n",
       "  </tbody>\n",
       "</table>\n",
       "</div>"
      ],
      "text/plain": [
       "            V2     V5  V6  DrivingStyle  Mean_Relative_Speed V12 V15  V13  \\\n",
       "ID                                                                          \n",
       "DR_24526  1265  10243   2             2             0.421053   7  95    0   \n",
       "DR_30052  1680  30871   6             2            -3.818182   1  96    0   \n",
       "DR_40928   936   3224   4             2             2.636364   1  95    1   \n",
       "DR_66033  1503   3315   4             2            -0.909091   4  95    0   \n",
       "DR_45266   929   3022   4             2            -0.166667   3  95    0   \n",
       "\n",
       "          V14  V19  V3_freq  \n",
       "ID                           \n",
       "DR_24526    0    0     0.21  \n",
       "DR_30052    0    0     0.64  \n",
       "DR_40928    1    0     0.36  \n",
       "DR_66033    0    0     0.55  \n",
       "DR_45266    0    0     0.42  "
      ]
     },
     "execution_count": 30,
     "metadata": {},
     "output_type": "execute_result"
    }
   ],
   "source": [
    "alldata['V3_freq'] = df4[0]b\n",
    "alldata.head()"
   ]
  },
  {
   "cell_type": "code",
   "execution_count": 191,
   "metadata": {
    "scrolled": true
   },
   "outputs": [],
   "source": [
    "series_V3 = df2.groupby('ID', sort = False , as_index = False)['V3'].agg(pd.Series.mode)\n",
    "series_V3.set_index('ID',inplace = True)\n",
    "alldata['V3'] = series_V3['V3']\n"
   ]
  },
  {
   "cell_type": "code",
   "execution_count": 200,
   "metadata": {},
   "outputs": [
    {
     "data": {
      "text/html": [
       "<div>\n",
       "<style scoped>\n",
       "    .dataframe tbody tr th:only-of-type {\n",
       "        vertical-align: middle;\n",
       "    }\n",
       "\n",
       "    .dataframe tbody tr th {\n",
       "        vertical-align: top;\n",
       "    }\n",
       "\n",
       "    .dataframe thead th {\n",
       "        text-align: right;\n",
       "    }\n",
       "</style>\n",
       "<table border=\"1\" class=\"dataframe\">\n",
       "  <thead>\n",
       "    <tr style=\"text-align: right;\">\n",
       "      <th></th>\n",
       "      <th>V2</th>\n",
       "      <th>V5</th>\n",
       "      <th>V6</th>\n",
       "      <th>DrivingStyle</th>\n",
       "      <th>Mean_Relative_Speed</th>\n",
       "      <th>V12</th>\n",
       "      <th>V15</th>\n",
       "      <th>V13</th>\n",
       "      <th>V14</th>\n",
       "      <th>V19</th>\n",
       "      <th>V3_freq</th>\n",
       "      <th>Avg_V11</th>\n",
       "      <th>V18</th>\n",
       "      <th>V4_mean</th>\n",
       "      <th>V3</th>\n",
       "    </tr>\n",
       "    <tr>\n",
       "      <th>ID</th>\n",
       "      <th></th>\n",
       "      <th></th>\n",
       "      <th></th>\n",
       "      <th></th>\n",
       "      <th></th>\n",
       "      <th></th>\n",
       "      <th></th>\n",
       "      <th></th>\n",
       "      <th></th>\n",
       "      <th></th>\n",
       "      <th></th>\n",
       "      <th></th>\n",
       "      <th></th>\n",
       "      <th></th>\n",
       "      <th></th>\n",
       "    </tr>\n",
       "  </thead>\n",
       "  <tbody>\n",
       "    <tr>\n",
       "      <th>DR_24526</th>\n",
       "      <td>1265</td>\n",
       "      <td>10243</td>\n",
       "      <td>2</td>\n",
       "      <td>2</td>\n",
       "      <td>0.42</td>\n",
       "      <td>7</td>\n",
       "      <td>95</td>\n",
       "      <td>0</td>\n",
       "      <td>0</td>\n",
       "      <td>0</td>\n",
       "      <td>0.21</td>\n",
       "      <td>67.84</td>\n",
       "      <td>0</td>\n",
       "      <td>87.473684</td>\n",
       "      <td>2</td>\n",
       "    </tr>\n",
       "    <tr>\n",
       "      <th>DR_30052</th>\n",
       "      <td>1680</td>\n",
       "      <td>30871</td>\n",
       "      <td>6</td>\n",
       "      <td>2</td>\n",
       "      <td>-3.82</td>\n",
       "      <td>1</td>\n",
       "      <td>96</td>\n",
       "      <td>0</td>\n",
       "      <td>0</td>\n",
       "      <td>0</td>\n",
       "      <td>0.64</td>\n",
       "      <td>138.36</td>\n",
       "      <td>0</td>\n",
       "      <td>82.272727</td>\n",
       "      <td>1</td>\n",
       "    </tr>\n",
       "    <tr>\n",
       "      <th>DR_40928</th>\n",
       "      <td>936</td>\n",
       "      <td>3224</td>\n",
       "      <td>4</td>\n",
       "      <td>2</td>\n",
       "      <td>2.64</td>\n",
       "      <td>1</td>\n",
       "      <td>95</td>\n",
       "      <td>1</td>\n",
       "      <td>1</td>\n",
       "      <td>0</td>\n",
       "      <td>0.36</td>\n",
       "      <td>159.55</td>\n",
       "      <td>0</td>\n",
       "      <td>85.090909</td>\n",
       "      <td>2</td>\n",
       "    </tr>\n",
       "    <tr>\n",
       "      <th>DR_66033</th>\n",
       "      <td>1503</td>\n",
       "      <td>3315</td>\n",
       "      <td>4</td>\n",
       "      <td>2</td>\n",
       "      <td>-0.91</td>\n",
       "      <td>4</td>\n",
       "      <td>95</td>\n",
       "      <td>0</td>\n",
       "      <td>0</td>\n",
       "      <td>0</td>\n",
       "      <td>0.55</td>\n",
       "      <td>118.45</td>\n",
       "      <td>0</td>\n",
       "      <td>82.818182</td>\n",
       "      <td>1</td>\n",
       "    </tr>\n",
       "    <tr>\n",
       "      <th>DR_45266</th>\n",
       "      <td>929</td>\n",
       "      <td>3022</td>\n",
       "      <td>4</td>\n",
       "      <td>2</td>\n",
       "      <td>-0.17</td>\n",
       "      <td>3</td>\n",
       "      <td>95</td>\n",
       "      <td>0</td>\n",
       "      <td>0</td>\n",
       "      <td>0</td>\n",
       "      <td>0.42</td>\n",
       "      <td>109.50</td>\n",
       "      <td>0</td>\n",
       "      <td>82.750000</td>\n",
       "      <td>1</td>\n",
       "    </tr>\n",
       "  </tbody>\n",
       "</table>\n",
       "</div>"
      ],
      "text/plain": [
       "            V2     V5  V6  DrivingStyle  Mean_Relative_Speed V12 V15  V13  \\\n",
       "ID                                                                          \n",
       "DR_24526  1265  10243   2             2                 0.42   7  95    0   \n",
       "DR_30052  1680  30871   6             2                -3.82   1  96    0   \n",
       "DR_40928   936   3224   4             2                 2.64   1  95    1   \n",
       "DR_66033  1503   3315   4             2                -0.91   4  95    0   \n",
       "DR_45266   929   3022   4             2                -0.17   3  95    0   \n",
       "\n",
       "          V14  V19  V3_freq  Avg_V11 V18    V4_mean V3  \n",
       "ID                                                      \n",
       "DR_24526    0    0     0.21    67.84   0  87.473684  2  \n",
       "DR_30052    0    0     0.64   138.36   0  82.272727  1  \n",
       "DR_40928    1    0     0.36   159.55   0  85.090909  2  \n",
       "DR_66033    0    0     0.55   118.45   0  82.818182  1  \n",
       "DR_45266    0    0     0.42   109.50   0  82.750000  1  "
      ]
     },
     "execution_count": 200,
     "metadata": {},
     "output_type": "execute_result"
    }
   ],
   "source": [
    "alldata.head()"
   ]
  },
  {
   "cell_type": "code",
   "execution_count": 31,
   "metadata": {},
   "outputs": [],
   "source": [
    "#Now add one more colomn for average time gap for each ID.Here time gap is with the preceding vehicle in seconds\n",
    "series8 = df2.groupby('ID',sort = False, as_index = False)['V11'].mean()\n",
    "series8.set_index('ID',inplace = True)\n",
    "\n",
    "alldata['Avg_V11']= series8['V11']"
   ]
  },
  {
   "cell_type": "code",
   "execution_count": 32,
   "metadata": {},
   "outputs": [],
   "source": [
    "alldata['Avg_V11'] = round(alldata['Avg_V11'],2)\n",
    "alldata['Mean_Relative_Speed']= round(alldata['Mean_Relative_Speed'],2)\n"
   ]
  },
  {
   "cell_type": "code",
   "execution_count": 157,
   "metadata": {},
   "outputs": [
    {
     "data": {
      "text/html": [
       "<div>\n",
       "<style scoped>\n",
       "    .dataframe tbody tr th:only-of-type {\n",
       "        vertical-align: middle;\n",
       "    }\n",
       "\n",
       "    .dataframe tbody tr th {\n",
       "        vertical-align: top;\n",
       "    }\n",
       "\n",
       "    .dataframe thead th {\n",
       "        text-align: right;\n",
       "    }\n",
       "</style>\n",
       "<table border=\"1\" class=\"dataframe\">\n",
       "  <thead>\n",
       "    <tr style=\"text-align: right;\">\n",
       "      <th></th>\n",
       "      <th>V2</th>\n",
       "      <th>V5</th>\n",
       "      <th>V6</th>\n",
       "      <th>DrivingStyle</th>\n",
       "      <th>Mean_Relative_Speed</th>\n",
       "      <th>V12</th>\n",
       "      <th>V15</th>\n",
       "      <th>V13</th>\n",
       "      <th>V14</th>\n",
       "      <th>V19</th>\n",
       "      <th>V3_freq</th>\n",
       "      <th>Avg_V11</th>\n",
       "      <th>V18</th>\n",
       "      <th>V4_mean</th>\n",
       "      <th>V3</th>\n",
       "    </tr>\n",
       "    <tr>\n",
       "      <th>ID</th>\n",
       "      <th></th>\n",
       "      <th></th>\n",
       "      <th></th>\n",
       "      <th></th>\n",
       "      <th></th>\n",
       "      <th></th>\n",
       "      <th></th>\n",
       "      <th></th>\n",
       "      <th></th>\n",
       "      <th></th>\n",
       "      <th></th>\n",
       "      <th></th>\n",
       "      <th></th>\n",
       "      <th></th>\n",
       "      <th></th>\n",
       "    </tr>\n",
       "  </thead>\n",
       "  <tbody>\n",
       "    <tr>\n",
       "      <th>DR_24526</th>\n",
       "      <td>1265</td>\n",
       "      <td>10243</td>\n",
       "      <td>2</td>\n",
       "      <td>2</td>\n",
       "      <td>0.42</td>\n",
       "      <td>7</td>\n",
       "      <td>95</td>\n",
       "      <td>0</td>\n",
       "      <td>0</td>\n",
       "      <td>0</td>\n",
       "      <td>0.21</td>\n",
       "      <td>67.84</td>\n",
       "      <td>0</td>\n",
       "      <td>87.473684</td>\n",
       "      <td>2</td>\n",
       "    </tr>\n",
       "    <tr>\n",
       "      <th>DR_30052</th>\n",
       "      <td>1680</td>\n",
       "      <td>30871</td>\n",
       "      <td>6</td>\n",
       "      <td>2</td>\n",
       "      <td>-3.82</td>\n",
       "      <td>1</td>\n",
       "      <td>96</td>\n",
       "      <td>0</td>\n",
       "      <td>0</td>\n",
       "      <td>0</td>\n",
       "      <td>0.64</td>\n",
       "      <td>138.36</td>\n",
       "      <td>0</td>\n",
       "      <td>82.272727</td>\n",
       "      <td>1</td>\n",
       "    </tr>\n",
       "    <tr>\n",
       "      <th>DR_40928</th>\n",
       "      <td>936</td>\n",
       "      <td>3224</td>\n",
       "      <td>4</td>\n",
       "      <td>2</td>\n",
       "      <td>2.64</td>\n",
       "      <td>1</td>\n",
       "      <td>95</td>\n",
       "      <td>1</td>\n",
       "      <td>1</td>\n",
       "      <td>0</td>\n",
       "      <td>0.36</td>\n",
       "      <td>159.55</td>\n",
       "      <td>0</td>\n",
       "      <td>85.090909</td>\n",
       "      <td>2</td>\n",
       "    </tr>\n",
       "    <tr>\n",
       "      <th>DR_66033</th>\n",
       "      <td>1503</td>\n",
       "      <td>3315</td>\n",
       "      <td>4</td>\n",
       "      <td>2</td>\n",
       "      <td>-0.91</td>\n",
       "      <td>4</td>\n",
       "      <td>95</td>\n",
       "      <td>0</td>\n",
       "      <td>0</td>\n",
       "      <td>0</td>\n",
       "      <td>0.55</td>\n",
       "      <td>118.45</td>\n",
       "      <td>0</td>\n",
       "      <td>82.818182</td>\n",
       "      <td>1</td>\n",
       "    </tr>\n",
       "    <tr>\n",
       "      <th>DR_45266</th>\n",
       "      <td>929</td>\n",
       "      <td>3022</td>\n",
       "      <td>4</td>\n",
       "      <td>2</td>\n",
       "      <td>-0.17</td>\n",
       "      <td>3</td>\n",
       "      <td>95</td>\n",
       "      <td>0</td>\n",
       "      <td>0</td>\n",
       "      <td>0</td>\n",
       "      <td>0.42</td>\n",
       "      <td>109.50</td>\n",
       "      <td>0</td>\n",
       "      <td>82.750000</td>\n",
       "      <td>1</td>\n",
       "    </tr>\n",
       "  </tbody>\n",
       "</table>\n",
       "</div>"
      ],
      "text/plain": [
       "            V2     V5  V6  DrivingStyle  Mean_Relative_Speed V12 V15  V13  \\\n",
       "ID                                                                          \n",
       "DR_24526  1265  10243   2             2                 0.42   7  95    0   \n",
       "DR_30052  1680  30871   6             2                -3.82   1  96    0   \n",
       "DR_40928   936   3224   4             2                 2.64   1  95    1   \n",
       "DR_66033  1503   3315   4             2                -0.91   4  95    0   \n",
       "DR_45266   929   3022   4             2                -0.17   3  95    0   \n",
       "\n",
       "          V14  V19  V3_freq  Avg_V11 V18    V4_mean V3  \n",
       "ID                                                      \n",
       "DR_24526    0    0     0.21    67.84   0  87.473684  2  \n",
       "DR_30052    0    0     0.64   138.36   0  82.272727  1  \n",
       "DR_40928    1    0     0.36   159.55   0  85.090909  2  \n",
       "DR_66033    0    0     0.55   118.45   0  82.818182  1  \n",
       "DR_45266    0    0     0.42   109.50   0  82.750000  1  "
      ]
     },
     "execution_count": 157,
     "metadata": {},
     "output_type": "execute_result"
    }
   ],
   "source": [
    "alldata.head()"
   ]
  },
  {
   "cell_type": "code",
   "execution_count": 34,
   "metadata": {},
   "outputs": [],
   "source": [
    "df2['V18'] = df2['V18'].map({\"Dry\":0,\"Snow covered\": 1, \"Visible tracks\": 2, \"Wet\": 3}).astype(int)\n"
   ]
  },
  {
   "cell_type": "code",
   "execution_count": 35,
   "metadata": {},
   "outputs": [
    {
     "data": {
      "text/html": [
       "<div>\n",
       "<style scoped>\n",
       "    .dataframe tbody tr th:only-of-type {\n",
       "        vertical-align: middle;\n",
       "    }\n",
       "\n",
       "    .dataframe tbody tr th {\n",
       "        vertical-align: top;\n",
       "    }\n",
       "\n",
       "    .dataframe thead th {\n",
       "        text-align: right;\n",
       "    }\n",
       "</style>\n",
       "<table border=\"1\" class=\"dataframe\">\n",
       "  <thead>\n",
       "    <tr style=\"text-align: right;\">\n",
       "      <th></th>\n",
       "      <th>V18</th>\n",
       "    </tr>\n",
       "    <tr>\n",
       "      <th>ID</th>\n",
       "      <th></th>\n",
       "    </tr>\n",
       "  </thead>\n",
       "  <tbody>\n",
       "    <tr>\n",
       "      <th>DR_24526</th>\n",
       "      <td>0</td>\n",
       "    </tr>\n",
       "    <tr>\n",
       "      <th>DR_30052</th>\n",
       "      <td>0</td>\n",
       "    </tr>\n",
       "    <tr>\n",
       "      <th>DR_40928</th>\n",
       "      <td>0</td>\n",
       "    </tr>\n",
       "    <tr>\n",
       "      <th>DR_66033</th>\n",
       "      <td>0</td>\n",
       "    </tr>\n",
       "    <tr>\n",
       "      <th>DR_45266</th>\n",
       "      <td>0</td>\n",
       "    </tr>\n",
       "  </tbody>\n",
       "</table>\n",
       "</div>"
      ],
      "text/plain": [
       "         V18\n",
       "ID          \n",
       "DR_24526   0\n",
       "DR_30052   0\n",
       "DR_40928   0\n",
       "DR_66033   0\n",
       "DR_45266   0"
      ]
     },
     "execution_count": 35,
     "metadata": {},
     "output_type": "execute_result"
    }
   ],
   "source": [
    "series9 = df2.groupby('ID', sort = False, as_index = False)['V18'].agg(pd.Series.mode)\n",
    "series9.set_index(\"ID\",inplace = True)\n",
    "series9.head()"
   ]
  },
  {
   "cell_type": "code",
   "execution_count": 36,
   "metadata": {},
   "outputs": [
    {
     "data": {
      "text/html": [
       "<div>\n",
       "<style scoped>\n",
       "    .dataframe tbody tr th:only-of-type {\n",
       "        vertical-align: middle;\n",
       "    }\n",
       "\n",
       "    .dataframe tbody tr th {\n",
       "        vertical-align: top;\n",
       "    }\n",
       "\n",
       "    .dataframe thead th {\n",
       "        text-align: right;\n",
       "    }\n",
       "</style>\n",
       "<table border=\"1\" class=\"dataframe\">\n",
       "  <thead>\n",
       "    <tr style=\"text-align: right;\">\n",
       "      <th></th>\n",
       "      <th>V2</th>\n",
       "      <th>V5</th>\n",
       "      <th>V6</th>\n",
       "      <th>DrivingStyle</th>\n",
       "      <th>Mean_Relative_Speed</th>\n",
       "      <th>V12</th>\n",
       "      <th>V15</th>\n",
       "      <th>V13</th>\n",
       "      <th>V14</th>\n",
       "      <th>V19</th>\n",
       "      <th>V3_freq</th>\n",
       "      <th>Avg_V11</th>\n",
       "      <th>V18</th>\n",
       "    </tr>\n",
       "    <tr>\n",
       "      <th>ID</th>\n",
       "      <th></th>\n",
       "      <th></th>\n",
       "      <th></th>\n",
       "      <th></th>\n",
       "      <th></th>\n",
       "      <th></th>\n",
       "      <th></th>\n",
       "      <th></th>\n",
       "      <th></th>\n",
       "      <th></th>\n",
       "      <th></th>\n",
       "      <th></th>\n",
       "      <th></th>\n",
       "    </tr>\n",
       "  </thead>\n",
       "  <tbody>\n",
       "    <tr>\n",
       "      <th>DR_24526</th>\n",
       "      <td>1265</td>\n",
       "      <td>10243</td>\n",
       "      <td>2</td>\n",
       "      <td>2</td>\n",
       "      <td>0.42</td>\n",
       "      <td>7</td>\n",
       "      <td>95</td>\n",
       "      <td>0</td>\n",
       "      <td>0</td>\n",
       "      <td>0</td>\n",
       "      <td>0.21</td>\n",
       "      <td>67.84</td>\n",
       "      <td>0</td>\n",
       "    </tr>\n",
       "    <tr>\n",
       "      <th>DR_30052</th>\n",
       "      <td>1680</td>\n",
       "      <td>30871</td>\n",
       "      <td>6</td>\n",
       "      <td>2</td>\n",
       "      <td>-3.82</td>\n",
       "      <td>1</td>\n",
       "      <td>96</td>\n",
       "      <td>0</td>\n",
       "      <td>0</td>\n",
       "      <td>0</td>\n",
       "      <td>0.64</td>\n",
       "      <td>138.36</td>\n",
       "      <td>0</td>\n",
       "    </tr>\n",
       "    <tr>\n",
       "      <th>DR_40928</th>\n",
       "      <td>936</td>\n",
       "      <td>3224</td>\n",
       "      <td>4</td>\n",
       "      <td>2</td>\n",
       "      <td>2.64</td>\n",
       "      <td>1</td>\n",
       "      <td>95</td>\n",
       "      <td>1</td>\n",
       "      <td>1</td>\n",
       "      <td>0</td>\n",
       "      <td>0.36</td>\n",
       "      <td>159.55</td>\n",
       "      <td>0</td>\n",
       "    </tr>\n",
       "    <tr>\n",
       "      <th>DR_66033</th>\n",
       "      <td>1503</td>\n",
       "      <td>3315</td>\n",
       "      <td>4</td>\n",
       "      <td>2</td>\n",
       "      <td>-0.91</td>\n",
       "      <td>4</td>\n",
       "      <td>95</td>\n",
       "      <td>0</td>\n",
       "      <td>0</td>\n",
       "      <td>0</td>\n",
       "      <td>0.55</td>\n",
       "      <td>118.45</td>\n",
       "      <td>0</td>\n",
       "    </tr>\n",
       "    <tr>\n",
       "      <th>DR_45266</th>\n",
       "      <td>929</td>\n",
       "      <td>3022</td>\n",
       "      <td>4</td>\n",
       "      <td>2</td>\n",
       "      <td>-0.17</td>\n",
       "      <td>3</td>\n",
       "      <td>95</td>\n",
       "      <td>0</td>\n",
       "      <td>0</td>\n",
       "      <td>0</td>\n",
       "      <td>0.42</td>\n",
       "      <td>109.50</td>\n",
       "      <td>0</td>\n",
       "    </tr>\n",
       "  </tbody>\n",
       "</table>\n",
       "</div>"
      ],
      "text/plain": [
       "            V2     V5  V6  DrivingStyle  Mean_Relative_Speed V12 V15  V13  \\\n",
       "ID                                                                          \n",
       "DR_24526  1265  10243   2             2                 0.42   7  95    0   \n",
       "DR_30052  1680  30871   6             2                -3.82   1  96    0   \n",
       "DR_40928   936   3224   4             2                 2.64   1  95    1   \n",
       "DR_66033  1503   3315   4             2                -0.91   4  95    0   \n",
       "DR_45266   929   3022   4             2                -0.17   3  95    0   \n",
       "\n",
       "          V14  V19  V3_freq  Avg_V11 V18  \n",
       "ID                                        \n",
       "DR_24526    0    0     0.21    67.84   0  \n",
       "DR_30052    0    0     0.64   138.36   0  \n",
       "DR_40928    1    0     0.36   159.55   0  \n",
       "DR_66033    0    0     0.55   118.45   0  \n",
       "DR_45266    0    0     0.42   109.50   0  "
      ]
     },
     "execution_count": 36,
     "metadata": {},
     "output_type": "execute_result"
    }
   ],
   "source": [
    "alldata['V18']= series9['V18']\n",
    "alldata.head()"
   ]
  },
  {
   "cell_type": "code",
   "execution_count": 37,
   "metadata": {},
   "outputs": [
    {
     "data": {
      "text/plain": [
       "(12994, 13)"
      ]
     },
     "execution_count": 37,
     "metadata": {},
     "output_type": "execute_result"
    }
   ],
   "source": [
    "alldata.shape"
   ]
  },
  {
   "cell_type": "markdown",
   "metadata": {},
   "source": [
    "Till now all the important features have been included in one data frame i.e. alldata.\n",
    "Now we have to do Data pre processing.\n"
   ]
  },
  {
   "cell_type": "code",
   "execution_count": 38,
   "metadata": {},
   "outputs": [
    {
     "data": {
      "text/plain": [
       "Index([], dtype='object')"
      ]
     },
     "execution_count": 38,
     "metadata": {},
     "output_type": "execute_result"
    }
   ],
   "source": [
    "# lets see if there is any missing data in the data frame\n",
    "# this is why missing data should be checked first \n",
    "alldata.columns[alldata.isnull().any()]"
   ]
  },
  {
   "cell_type": "code",
   "execution_count": 39,
   "metadata": {},
   "outputs": [
    {
     "data": {
      "text/plain": [
       "V2                       546\n",
       "V5                      1710\n",
       "V6                         2\n",
       "DrivingStyle               2\n",
       "Mean_Relative_Speed    -0.32\n",
       "V12                        0\n",
       "V15                        0\n",
       "V13                        2\n",
       "V14                        0\n",
       "V19                        0\n",
       "V3_freq                  0.5\n",
       "Avg_V11                45.73\n",
       "V18                        0\n",
       "Name: DR_7035, dtype: object"
      ]
     },
     "execution_count": 39,
     "metadata": {},
     "output_type": "execute_result"
    }
   ],
   "source": [
    "alldata.loc[\"DR_7035\",:]"
   ]
  },
  {
   "cell_type": "code",
   "execution_count": 40,
   "metadata": {},
   "outputs": [
    {
     "data": {
      "text/plain": [
       "<matplotlib.axes._subplots.AxesSubplot at 0x24d278ee710>"
      ]
     },
     "execution_count": 40,
     "metadata": {},
     "output_type": "execute_result"
    },
    {
     "data": {
      "image/png": "[encoded data removed]",
      "text/plain": [
       "<Figure size 432x288 with 1 Axes>"
      ]
     },
     "metadata": {
      "needs_background": "light"
     },
     "output_type": "display_data"
    }
   ],
   "source": [
    "sns.distplot(alldata['DrivingStyle'])"
   ]
  },
  {
   "cell_type": "code",
   "execution_count": 41,
   "metadata": {},
   "outputs": [
    {
     "data": {
      "text/plain": [
       "<seaborn.axisgrid.JointGrid at 0x24d238cc550>"
      ]
     },
     "execution_count": 41,
     "metadata": {},
     "output_type": "execute_result"
    },
    {
     "data": {
      "image/png": "[encoded data removed]",
      "text/plain": [
       "<Figure size 432x432 with 3 Axes>"
      ]
     },
     "metadata": {
      "needs_background": "light"
     },
     "output_type": "display_data"
    }
   ],
   "source": [
    "sns.jointplot(x=alldata['DrivingStyle'], y=alldata['Mean_Relative_Speed'])"
   ]
  },
  {
   "cell_type": "code",
   "execution_count": 201,
   "metadata": {},
   "outputs": [],
   "source": [
    "#Lets split the feature variable and target variable.\n",
    "X = np.asarray(alldata[['V2','V5','V6','V13','V14','V19','Avg_V11','V3_freq','V4_mean']])\n",
    "y = np.asarray(alldata['DrivingStyle'])"
   ]
  },
  {
   "cell_type": "code",
   "execution_count": 202,
   "metadata": {
    "scrolled": true
   },
   "outputs": [
    {
     "data": {
      "text/plain": [
       "array([[5.50000000e+02, 2.66100000e+03, 2.00000000e+00, 0.00000000e+00,\n",
       "        0.00000000e+00, 0.00000000e+00, 5.06400000e+02, 4.00000000e-01,\n",
       "        9.52000000e+01],\n",
       "       [5.80000000e+02, 1.93900000e+03, 2.00000000e+00, 0.00000000e+00,\n",
       "        0.00000000e+00, 0.00000000e+00, 2.78600000e+02, 2.00000000e-01,\n",
       "        9.40000000e+01],\n",
       "       [5.63000000e+02, 2.18200000e+03, 2.00000000e+00, 0.00000000e+00,\n",
       "        0.00000000e+00, 0.00000000e+00, 1.19330000e+02, 0.00000000e+00,\n",
       "        9.23333333e+01],\n",
       "       [5.58000000e+02, 2.89300000e+03, 2.00000000e+00, 0.00000000e+00,\n",
       "        0.00000000e+00, 0.00000000e+00, 1.88440000e+02, 5.60000000e-01,\n",
       "        8.76666667e+01],\n",
       "       [5.51000000e+02, 1.26900000e+03, 2.00000000e+00, 0.00000000e+00,\n",
       "        0.00000000e+00, 0.00000000e+00, 6.94500000e+01, 9.00000000e-02,\n",
       "        8.57272727e+01],\n",
       "       [8.03000000e+02, 3.37300000e+03, 2.00000000e+00, 0.00000000e+00,\n",
       "        0.00000000e+00, 0.00000000e+00, 1.64170000e+02, 3.30000000e-01,\n",
       "        7.96666667e+01],\n",
       "       [5.50000000e+02, 2.43600000e+03, 2.00000000e+00, 0.00000000e+00,\n",
       "        0.00000000e+00, 0.00000000e+00, 8.07100000e+01, 4.30000000e-01,\n",
       "        8.65714286e+01],\n",
       "       [5.88000000e+02, 1.72200000e+03, 2.00000000e+00, 0.00000000e+00,\n",
       "        0.00000000e+00, 0.00000000e+00, 8.80000000e+01, 2.10000000e-01,\n",
       "        8.39285714e+01],\n",
       "       [5.65000000e+02, 1.87300000e+03, 2.00000000e+00, 0.00000000e+00,\n",
       "        0.00000000e+00, 0.00000000e+00, 6.99600000e+01, 3.30000000e-01,\n",
       "        8.42916667e+01],\n",
       "       [5.44000000e+02, 2.38400000e+03, 2.00000000e+00, 0.00000000e+00,\n",
       "        0.00000000e+00, 0.00000000e+00, 4.13200000e+01, 3.90000000e-01,\n",
       "        8.54516129e+01],\n",
       "       [5.62000000e+02, 1.94700000e+03, 2.00000000e+00, 0.00000000e+00,\n",
       "        0.00000000e+00, 0.00000000e+00, 6.08700000e+01, 4.30000000e-01,\n",
       "        8.28260870e+01],\n",
       "       [5.48000000e+02, 2.21100000e+03, 2.00000000e+00, 0.00000000e+00,\n",
       "        0.00000000e+00, 0.00000000e+00, 6.22200000e+01, 5.70000000e-01,\n",
       "        8.48260870e+01],\n",
       "       [5.70000000e+02, 2.45300000e+03, 2.00000000e+00, 0.00000000e+00,\n",
       "        0.00000000e+00, 0.00000000e+00, 3.95800000e+01, 4.20000000e-01,\n",
       "        8.46969697e+01],\n",
       "       [6.00000000e+02, 2.05200000e+03, 2.00000000e+00, 0.00000000e+00,\n",
       "        0.00000000e+00, 2.00000000e+00, 4.42100000e+01, 3.20000000e-01,\n",
       "        8.50000000e+01],\n",
       "       [5.51000000e+02, 2.77700000e+03, 2.00000000e+00, 0.00000000e+00,\n",
       "        0.00000000e+00, 2.00000000e+00, 6.56100000e+01, 2.20000000e-01,\n",
       "        8.83333333e+01]])"
      ]
     },
     "execution_count": 202,
     "metadata": {},
     "output_type": "execute_result"
    }
   ],
   "source": [
    "X[190:205]"
   ]
  },
  {
   "cell_type": "code",
   "execution_count": 203,
   "metadata": {},
   "outputs": [],
   "source": [
    "from sklearn.preprocessing import StandardScaler\n",
    "X = StandardScaler().fit(X).transform(X.astype(float))"
   ]
  },
  {
   "cell_type": "code",
   "execution_count": 204,
   "metadata": {},
   "outputs": [
    {
     "name": "stdout",
     "output_type": "stream",
     "text": [
      "Train set: (10395, 9) (10395,)\n",
      "Test set: (2599, 9) (2599,)\n"
     ]
    }
   ],
   "source": [
    "from sklearn.model_selection import train_test_split\n",
    "X_train,X_test,y_train, y_test = train_test_split(X,y,test_size = 0.2,random_state =4)\n",
    "print ('Train set:', X_train.shape, y_train.shape)\n",
    "print ('Test set:', X_test.shape, y_test.shape)"
   ]
  },
  {
   "cell_type": "code",
   "execution_count": 205,
   "metadata": {},
   "outputs": [
    {
     "data": {
      "text/plain": [
       "array([[-0.86278582, -0.60079406, -0.77478682, ...,  0.22908039,\n",
       "        -0.49755727,  0.0474501 ],\n",
       "       [-0.82380874, -0.73293138, -0.77478682, ..., -0.74789707,\n",
       "         0.14367845, -0.3278925 ],\n",
       "       [ 1.26146459,  0.44752496,  0.43322613, ...,  1.00027985,\n",
       "        -1.83346501,  0.83372813],\n",
       "       ...,\n",
       "       [-0.34013872, -0.52900205, -0.17078034, ..., -0.20307216,\n",
       "         1.21240465,  0.0474501 ],\n",
       "       [ 1.24197605,  1.91492709,  1.64123908, ..., -0.38680253,\n",
       "         0.57116893, -1.39803074],\n",
       "       [-0.9602285 , -0.66714055, -0.77478682, ..., -0.6419654 ,\n",
       "         0.46429631, -0.21880278]])"
      ]
     },
     "execution_count": 205,
     "metadata": {},
     "output_type": "execute_result"
    }
   ],
   "source": [
    "X_train"
   ]
  },
  {
   "cell_type": "code",
   "execution_count": 206,
   "metadata": {},
   "outputs": [
    {
     "name": "stderr",
     "output_type": "stream",
     "text": [
      "c:\\users\\lenovo\\appdata\\local\\programs\\python\\python37\\lib\\site-packages\\sklearn\\linear_model\\logistic.py:460: FutureWarning: Default multi_class will be changed to 'auto' in 0.22. Specify the multi_class option to silence this warning.\n",
      "  \"this warning.\", FutureWarning)\n"
     ]
    },
    {
     "data": {
      "text/plain": [
       "LogisticRegression(C=0.01, class_weight=None, dual=False, fit_intercept=True,\n",
       "          intercept_scaling=1, max_iter=100, multi_class='warn',\n",
       "          n_jobs=None, penalty='l2', random_state=None, solver='liblinear',\n",
       "          tol=0.0001, verbose=0, warm_start=False)"
      ]
     },
     "execution_count": 206,
     "metadata": {},
     "output_type": "execute_result"
    }
   ],
   "source": [
    "from sklearn.linear_model import LogisticRegression\n",
    "from sklearn.metrics import confusion_matrix\n",
    "lr = LogisticRegression(C=0.01, solver = 'liblinear').fit(X_train,y_train)\n",
    "# C : Inverse of regularization strength; must be a positive float.\n",
    "# solver : \"liblinear\" :Algorithm to use in the optimization problem.\n",
    "#For small datasets, ‘liblinear’ is a good choice, whereas ‘sag’ and ‘saga’ are faster for large ones.\n",
    "\n",
    "lr"
   ]
  },
  {
   "cell_type": "code",
   "execution_count": 207,
   "metadata": {},
   "outputs": [
    {
     "data": {
      "text/plain": [
       "array([1, 1, 3, ..., 2, 2, 2], dtype=int64)"
      ]
     },
     "execution_count": 207,
     "metadata": {},
     "output_type": "execute_result"
    }
   ],
   "source": [
    "y_hat = lr.predict(X_test)\n",
    "y_hat"
   ]
  },
  {
   "cell_type": "code",
   "execution_count": 208,
   "metadata": {},
   "outputs": [
    {
     "data": {
      "text/plain": [
       "0.5848403232012312"
      ]
     },
     "execution_count": 208,
     "metadata": {},
     "output_type": "execute_result"
    }
   ],
   "source": [
    "from sklearn.metrics import jaccard_similarity_score\n",
    "jaccard_similarity_score(y_test,y_hat)"
   ]
  },
  {
   "cell_type": "code",
   "execution_count": 209,
   "metadata": {},
   "outputs": [
    {
     "data": {
      "text/plain": [
       "array([[0.44562357, 0.24524384, 0.30913259],\n",
       "       [0.45984011, 0.25891529, 0.2812446 ],\n",
       "       [0.37606272, 0.15121236, 0.47272492],\n",
       "       ...,\n",
       "       [0.35856855, 0.3591148 , 0.28231665],\n",
       "       [0.10755962, 0.78225638, 0.110184  ],\n",
       "       [0.31037171, 0.38775274, 0.30187555]])"
      ]
     },
     "execution_count": 209,
     "metadata": {},
     "output_type": "execute_result"
    }
   ],
   "source": [
    "yhat_prob = lr.predict_proba(X_test)\n",
    "yhat_prob"
   ]
  },
  {
   "cell_type": "code",
   "execution_count": 210,
   "metadata": {},
   "outputs": [
    {
     "data": {
      "text/plain": [
       "0.842725871596181"
      ]
     },
     "execution_count": 210,
     "metadata": {},
     "output_type": "execute_result"
    }
   ],
   "source": [
    "from sklearn.metrics import log_loss\n",
    "log_loss(y_test,yhat_prob)"
   ]
  }
 ],
 "metadata": {
  "kernelspec": {
   "display_name": "Python 3",
   "language": "python",
   "name": "python3"
  },
  "language_info": {
   "codemirror_mode": {
    "name": "ipython",
    "version": 3
   },
   "file_extension": ".py",
   "mimetype": "text/x-python",
   "name": "python",
   "nbconvert_exporter": "python",
   "pygments_lexer": "ipython3",
   "version": "3.7.2"
  }
 },
 "nbformat": 4,
 "nbformat_minor": 2
}
